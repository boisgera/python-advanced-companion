{
 "cells": [
  {
   "cell_type": "markdown",
   "id": "b1d169ab",
   "metadata": {},
   "source": [
    "## Everything is an object!"
   ]
  },
  {
   "cell_type": "code",
   "execution_count": 31,
   "id": "7254f145",
   "metadata": {},
   "outputs": [
    {
     "data": {
      "text/plain": [
       "True"
      ]
     },
     "execution_count": 31,
     "metadata": {},
     "output_type": "execute_result"
    }
   ],
   "source": [
    "isinstance(1, int)"
   ]
  },
  {
   "cell_type": "code",
   "execution_count": 32,
   "id": "263722a6",
   "metadata": {},
   "outputs": [
    {
     "data": {
      "text/plain": [
       "True"
      ]
     },
     "execution_count": 32,
     "metadata": {},
     "output_type": "execute_result"
    }
   ],
   "source": [
    "isinstance(1, object)"
   ]
  },
  {
   "cell_type": "code",
   "execution_count": 33,
   "id": "d6e75638",
   "metadata": {},
   "outputs": [
    {
     "data": {
      "text/plain": [
       "True"
      ]
     },
     "execution_count": 33,
     "metadata": {},
     "output_type": "execute_result"
    }
   ],
   "source": [
    "isinstance(True, object)"
   ]
  },
  {
   "cell_type": "code",
   "execution_count": 34,
   "id": "f193aaa2",
   "metadata": {},
   "outputs": [
    {
     "data": {
      "text/plain": [
       "True"
      ]
     },
     "execution_count": 34,
     "metadata": {},
     "output_type": "execute_result"
    }
   ],
   "source": [
    "isinstance(\"jkjskjdks\", object)"
   ]
  },
  {
   "cell_type": "code",
   "execution_count": 35,
   "id": "4cd1ff25",
   "metadata": {},
   "outputs": [
    {
     "data": {
      "text/plain": [
       "True"
      ]
     },
     "execution_count": 35,
     "metadata": {},
     "output_type": "execute_result"
    }
   ],
   "source": [
    "isinstance([1, 2, 3], object)"
   ]
  },
  {
   "cell_type": "code",
   "execution_count": 36,
   "id": "d5c2aa48",
   "metadata": {},
   "outputs": [],
   "source": [
    "def f(x):\n",
    "    pass"
   ]
  },
  {
   "cell_type": "code",
   "execution_count": 37,
   "id": "371035ce",
   "metadata": {},
   "outputs": [
    {
     "data": {
      "text/plain": [
       "True"
      ]
     },
     "execution_count": 37,
     "metadata": {},
     "output_type": "execute_result"
    }
   ],
   "source": [
    "isinstance(f, object)"
   ]
  },
  {
   "cell_type": "code",
   "execution_count": 38,
   "id": "b48a219e",
   "metadata": {},
   "outputs": [],
   "source": [
    "import sys"
   ]
  },
  {
   "cell_type": "code",
   "execution_count": 39,
   "id": "5dc2f556",
   "metadata": {},
   "outputs": [
    {
     "data": {
      "text/plain": [
       "True"
      ]
     },
     "execution_count": 39,
     "metadata": {},
     "output_type": "execute_result"
    }
   ],
   "source": [
    "isinstance(sys, object)"
   ]
  },
  {
   "cell_type": "markdown",
   "id": "f221a6d6",
   "metadata": {},
   "source": [
    "## Complex Numbers"
   ]
  },
  {
   "cell_type": "code",
   "execution_count": 40,
   "id": "1ade7c48",
   "metadata": {},
   "outputs": [],
   "source": [
    "z = 1.0 - 2.0j"
   ]
  },
  {
   "cell_type": "code",
   "execution_count": 41,
   "id": "7469db66",
   "metadata": {},
   "outputs": [
    {
     "data": {
      "text/plain": [
       "(1-2j)"
      ]
     },
     "execution_count": 41,
     "metadata": {},
     "output_type": "execute_result"
    }
   ],
   "source": [
    "z"
   ]
  },
  {
   "cell_type": "code",
   "execution_count": 42,
   "id": "dced42b4",
   "metadata": {},
   "outputs": [
    {
     "data": {
      "text/plain": [
       "(1-2j)"
      ]
     },
     "execution_count": 42,
     "metadata": {},
     "output_type": "execute_result"
    }
   ],
   "source": [
    "z = complex(1.0, -2.0) # construction / initialisation d'un complexe / instanciation du type complex\n",
    "z"
   ]
  },
  {
   "cell_type": "code",
   "execution_count": 43,
   "id": "5ff1eae3",
   "metadata": {},
   "outputs": [
    {
     "data": {
      "text/plain": [
       "1.0"
      ]
     },
     "execution_count": 43,
     "metadata": {},
     "output_type": "execute_result"
    }
   ],
   "source": [
    "z.real # accès aux attributs (ic \"real\")"
   ]
  },
  {
   "cell_type": "code",
   "execution_count": 44,
   "id": "7dad1e68",
   "metadata": {},
   "outputs": [
    {
     "ename": "AttributeError",
     "evalue": "readonly attribute",
     "output_type": "error",
     "traceback": [
      "\u001b[0;31m---------------------------------------------------------------------------\u001b[0m",
      "\u001b[0;31mAttributeError\u001b[0m                            Traceback (most recent call last)",
      "\u001b[0;32m/tmp/ipykernel_73815/1104530040.py\u001b[0m in \u001b[0;36m<module>\u001b[0;34m\u001b[0m\n\u001b[0;32m----> 1\u001b[0;31m \u001b[0mz\u001b[0m\u001b[0;34m.\u001b[0m\u001b[0mreal\u001b[0m \u001b[0;34m=\u001b[0m \u001b[0;36m3.14\u001b[0m \u001b[0;31m# ici \"real\" accessible en lecture seule\u001b[0m\u001b[0;34m\u001b[0m\u001b[0;34m\u001b[0m\u001b[0m\n\u001b[0m",
      "\u001b[0;31mAttributeError\u001b[0m: readonly attribute"
     ]
    }
   ],
   "source": [
    "z.real = 3.14 # ici \"real\" accessible en lecture seule"
   ]
  },
  {
   "cell_type": "code",
   "execution_count": 45,
   "id": "00d79c0e",
   "metadata": {},
   "outputs": [
    {
     "data": {
      "text/plain": [
       "(1+2j)"
      ]
     },
     "execution_count": 45,
     "metadata": {},
     "output_type": "execute_result"
    }
   ],
   "source": [
    "z.conjugate() # appel de méthode"
   ]
  },
  {
   "cell_type": "code",
   "execution_count": 46,
   "id": "edf27d12",
   "metadata": {},
   "outputs": [],
   "source": [
    "w = 1j"
   ]
  },
  {
   "cell_type": "code",
   "execution_count": 47,
   "id": "808adff9",
   "metadata": {},
   "outputs": [
    {
     "data": {
      "text/plain": [
       "(2+1j)"
      ]
     },
     "execution_count": 47,
     "metadata": {},
     "output_type": "execute_result"
    }
   ],
   "source": [
    "w * z"
   ]
  },
  {
   "cell_type": "markdown",
   "id": "8e3fdd43",
   "metadata": {},
   "source": [
    "## Complex numbers without objects"
   ]
  },
  {
   "cell_type": "code",
   "execution_count": 48,
   "id": "b666e9af",
   "metadata": {},
   "outputs": [],
   "source": [
    "z = (1.0, -2.0)"
   ]
  },
  {
   "cell_type": "code",
   "execution_count": 49,
   "id": "8136f269",
   "metadata": {},
   "outputs": [],
   "source": [
    "def complex_get_real(z):\n",
    "    return z[0]"
   ]
  },
  {
   "cell_type": "code",
   "execution_count": 50,
   "id": "48e97fef",
   "metadata": {},
   "outputs": [
    {
     "data": {
      "text/plain": [
       "1.0"
      ]
     },
     "execution_count": 50,
     "metadata": {},
     "output_type": "execute_result"
    }
   ],
   "source": [
    "complex_get_real(z)"
   ]
  },
  {
   "cell_type": "code",
   "execution_count": 51,
   "id": "5397dfa2",
   "metadata": {},
   "outputs": [],
   "source": [
    "def complex_conjugate(z):\n",
    "    x, y = z\n",
    "    return (x, -y)"
   ]
  },
  {
   "cell_type": "code",
   "execution_count": 52,
   "id": "ac092a05",
   "metadata": {},
   "outputs": [
    {
     "data": {
      "text/plain": [
       "(1.0, 2.0)"
      ]
     },
     "execution_count": 52,
     "metadata": {},
     "output_type": "execute_result"
    }
   ],
   "source": [
    "complex_conjugate(z)"
   ]
  },
  {
   "cell_type": "code",
   "execution_count": 53,
   "id": "ea7f4e10",
   "metadata": {},
   "outputs": [],
   "source": [
    "def complex_multiply(w, z):\n",
    "    ...\n",
    "    pass"
   ]
  },
  {
   "cell_type": "markdown",
   "id": "dfa90ff0",
   "metadata": {},
   "source": [
    "## Our own complex class"
   ]
  },
  {
   "cell_type": "code",
   "execution_count": 86,
   "id": "89ef3349",
   "metadata": {},
   "outputs": [],
   "source": [
    "import builtins\n",
    "complex = builtins.complex"
   ]
  },
  {
   "cell_type": "code",
   "execution_count": 57,
   "id": "86eb0f0a",
   "metadata": {},
   "outputs": [],
   "source": [
    "class Complex:\n",
    "    pass"
   ]
  },
  {
   "cell_type": "code",
   "execution_count": 61,
   "id": "a8f5945c",
   "metadata": {},
   "outputs": [],
   "source": [
    "complex = Complex() # instance of Complex (default constructor only)"
   ]
  },
  {
   "cell_type": "code",
   "execution_count": 60,
   "id": "d22bc433",
   "metadata": {},
   "outputs": [
    {
     "ename": "TypeError",
     "evalue": "Complex() takes no arguments",
     "output_type": "error",
     "traceback": [
      "\u001b[0;31m---------------------------------------------------------------------------\u001b[0m",
      "\u001b[0;31mTypeError\u001b[0m                                 Traceback (most recent call last)",
      "\u001b[0;32m/tmp/ipykernel_73815/2989908829.py\u001b[0m in \u001b[0;36m<module>\u001b[0;34m\u001b[0m\n\u001b[0;32m----> 1\u001b[0;31m \u001b[0mComplex\u001b[0m\u001b[0;34m(\u001b[0m\u001b[0;36m1.0\u001b[0m\u001b[0;34m,\u001b[0m \u001b[0;34m-\u001b[0m\u001b[0;36m2.0\u001b[0m\u001b[0;34m)\u001b[0m\u001b[0;34m\u001b[0m\u001b[0;34m\u001b[0m\u001b[0m\n\u001b[0m",
      "\u001b[0;31mTypeError\u001b[0m: Complex() takes no arguments"
     ]
    }
   ],
   "source": [
    "Complex(1.0, -2.0)"
   ]
  },
  {
   "cell_type": "code",
   "execution_count": 64,
   "id": "9ed4eb1f",
   "metadata": {},
   "outputs": [],
   "source": [
    "class Complex:\n",
    "    def init(complex, real, imag):\n",
    "        complex.real = real\n",
    "        complex.imag = imag"
   ]
  },
  {
   "cell_type": "code",
   "execution_count": 65,
   "id": "bccd61f0",
   "metadata": {},
   "outputs": [],
   "source": [
    "complex = Complex()\n",
    "Complex.init(complex, 1.0, -2.0)"
   ]
  },
  {
   "cell_type": "code",
   "execution_count": 67,
   "id": "539d82e5",
   "metadata": {},
   "outputs": [
    {
     "data": {
      "text/plain": [
       "1.0"
      ]
     },
     "execution_count": 67,
     "metadata": {},
     "output_type": "execute_result"
    }
   ],
   "source": [
    "complex.real"
   ]
  },
  {
   "cell_type": "code",
   "execution_count": 68,
   "id": "11220594",
   "metadata": {},
   "outputs": [
    {
     "data": {
      "text/plain": [
       "-2.0"
      ]
     },
     "execution_count": 68,
     "metadata": {},
     "output_type": "execute_result"
    }
   ],
   "source": [
    "complex.imag"
   ]
  },
  {
   "cell_type": "code",
   "execution_count": 72,
   "id": "ef3cdf8c",
   "metadata": {},
   "outputs": [],
   "source": [
    "class Complex:\n",
    "    def __init__(complex, real, imag):\n",
    "        complex.real = real\n",
    "        complex.imag = imag"
   ]
  },
  {
   "cell_type": "code",
   "execution_count": 73,
   "id": "08c7825f",
   "metadata": {},
   "outputs": [],
   "source": [
    "z = Complex(1.0, -2.0)"
   ]
  },
  {
   "cell_type": "code",
   "execution_count": 74,
   "id": "b6e3aeef",
   "metadata": {},
   "outputs": [
    {
     "data": {
      "text/plain": [
       "1.0"
      ]
     },
     "execution_count": 74,
     "metadata": {},
     "output_type": "execute_result"
    }
   ],
   "source": [
    "z.real"
   ]
  },
  {
   "cell_type": "code",
   "execution_count": 75,
   "id": "d4ce8b94",
   "metadata": {},
   "outputs": [
    {
     "data": {
      "text/plain": [
       "-2.0"
      ]
     },
     "execution_count": 75,
     "metadata": {},
     "output_type": "execute_result"
    }
   ],
   "source": [
    "z.imag"
   ]
  },
  {
   "cell_type": "code",
   "execution_count": 81,
   "id": "0c0cf327",
   "metadata": {},
   "outputs": [],
   "source": [
    "class Complex:\n",
    "    def __init__(complex, real, imag):\n",
    "        complex.real = real\n",
    "        complex.imag = imag\n",
    "    def conjugate_inplace(complex): # mutable version of conjugate\n",
    "        complex.imag = -complex.imag\n"
   ]
  },
  {
   "cell_type": "code",
   "execution_count": 79,
   "id": "51bfb7da",
   "metadata": {},
   "outputs": [
    {
     "data": {
      "text/plain": [
       "(1.0, 2.0)"
      ]
     },
     "execution_count": 79,
     "metadata": {},
     "output_type": "execute_result"
    }
   ],
   "source": [
    "z = Complex(1.0, -2.0)\n",
    "Complex.conjugate_inplace(z)\n",
    "z.real, z.imag"
   ]
  },
  {
   "cell_type": "code",
   "execution_count": 80,
   "id": "4f81a267",
   "metadata": {},
   "outputs": [
    {
     "data": {
      "text/plain": [
       "(1.0, 2.0)"
      ]
     },
     "execution_count": 80,
     "metadata": {},
     "output_type": "execute_result"
    }
   ],
   "source": [
    "z = Complex(1.0, -2.0)\n",
    "z.conjugate_inplace() # méthode liée (\"bound method\")\n",
    "z.real, z.imag"
   ]
  },
  {
   "cell_type": "code",
   "execution_count": 82,
   "id": "4ffd9e2f",
   "metadata": {},
   "outputs": [],
   "source": [
    "class Complex:\n",
    "    def __init__(complex, real, imag):\n",
    "        complex.real = real\n",
    "        complex.imag = imag\n",
    "    def conjugate(complex):\n",
    "        return Complex(complex.real, -complex.imag)\n"
   ]
  },
  {
   "cell_type": "code",
   "execution_count": 84,
   "id": "b430dbe1",
   "metadata": {},
   "outputs": [
    {
     "data": {
      "text/plain": [
       "(1.0, 2.0)"
      ]
     },
     "execution_count": 84,
     "metadata": {},
     "output_type": "execute_result"
    }
   ],
   "source": [
    "z = Complex(1.0, -2.0)\n",
    "w = z.conjugate()\n",
    "w.real, w.imag"
   ]
  },
  {
   "cell_type": "code",
   "execution_count": 87,
   "id": "41803e52",
   "metadata": {},
   "outputs": [
    {
     "data": {
      "text/plain": [
       "(1+2j)"
      ]
     },
     "execution_count": 87,
     "metadata": {},
     "output_type": "execute_result"
    }
   ],
   "source": [
    "complex(1.0, 2.0) # eq to print(repr(complex(1.0, 2.0)))"
   ]
  },
  {
   "cell_type": "code",
   "execution_count": 88,
   "id": "3a63313d",
   "metadata": {},
   "outputs": [
    {
     "data": {
      "text/plain": [
       "<__main__.Complex at 0x7ff99046a340>"
      ]
     },
     "execution_count": 88,
     "metadata": {},
     "output_type": "execute_result"
    }
   ],
   "source": [
    "Complex(1.0, 2.0)"
   ]
  },
  {
   "cell_type": "code",
   "execution_count": 90,
   "id": "9072048b",
   "metadata": {},
   "outputs": [
    {
     "name": "stdout",
     "output_type": "stream",
     "text": [
      "(1+2j)\n"
     ]
    }
   ],
   "source": [
    "print(repr(complex(1.0, 2.0))) # repr uses the dunder method __repr__ if it exist!"
   ]
  },
  {
   "cell_type": "code",
   "execution_count": 91,
   "id": "c51fb378",
   "metadata": {},
   "outputs": [
    {
     "data": {
      "text/plain": [
       "True"
      ]
     },
     "execution_count": 91,
     "metadata": {},
     "output_type": "execute_result"
    }
   ],
   "source": [
    "w = Complex(1.0, 2.0)\n",
    "isinstance(w, Complex)"
   ]
  },
  {
   "cell_type": "code",
   "execution_count": 92,
   "id": "753cca99",
   "metadata": {},
   "outputs": [
    {
     "data": {
      "text/plain": [
       "True"
      ]
     },
     "execution_count": 92,
     "metadata": {},
     "output_type": "execute_result"
    }
   ],
   "source": [
    "isinstance(w, object)"
   ]
  },
  {
   "cell_type": "code",
   "execution_count": 93,
   "id": "cbadd72c",
   "metadata": {},
   "outputs": [
    {
     "data": {
      "text/plain": [
       "True"
      ]
     },
     "execution_count": 93,
     "metadata": {},
     "output_type": "execute_result"
    }
   ],
   "source": [
    "issubclass(Complex, object)"
   ]
  },
  {
   "cell_type": "code",
   "execution_count": 95,
   "id": "00aa889f",
   "metadata": {},
   "outputs": [
    {
     "data": {
      "text/plain": [
       "['__class__',\n",
       " '__delattr__',\n",
       " '__dict__',\n",
       " '__dir__',\n",
       " '__doc__',\n",
       " '__eq__',\n",
       " '__format__',\n",
       " '__ge__',\n",
       " '__getattribute__',\n",
       " '__gt__',\n",
       " '__hash__',\n",
       " '__init__',\n",
       " '__init_subclass__',\n",
       " '__le__',\n",
       " '__lt__',\n",
       " '__module__',\n",
       " '__ne__',\n",
       " '__new__',\n",
       " '__reduce__',\n",
       " '__reduce_ex__',\n",
       " '__repr__',\n",
       " '__setattr__',\n",
       " '__sizeof__',\n",
       " '__str__',\n",
       " '__subclasshook__',\n",
       " '__weakref__',\n",
       " 'conjugate']"
      ]
     },
     "execution_count": 95,
     "metadata": {},
     "output_type": "execute_result"
    }
   ],
   "source": [
    "dir(Complex)"
   ]
  },
  {
   "cell_type": "code",
   "execution_count": 96,
   "id": "78fca027",
   "metadata": {},
   "outputs": [
    {
     "data": {
      "text/plain": [
       "<slot wrapper '__repr__' of 'object' objects>"
      ]
     },
     "execution_count": 96,
     "metadata": {},
     "output_type": "execute_result"
    }
   ],
   "source": [
    "Complex.__repr__"
   ]
  },
  {
   "cell_type": "code",
   "execution_count": 97,
   "id": "c3ebf1cc",
   "metadata": {},
   "outputs": [
    {
     "data": {
      "text/plain": [
       "<slot wrapper '__repr__' of 'object' objects>"
      ]
     },
     "execution_count": 97,
     "metadata": {},
     "output_type": "execute_result"
    }
   ],
   "source": [
    "object.__repr__"
   ]
  },
  {
   "cell_type": "code",
   "execution_count": 98,
   "id": "4a0103b5",
   "metadata": {},
   "outputs": [
    {
     "name": "stdout",
     "output_type": "stream",
     "text": [
      "<__main__.Complex object at 0x7ff99046a190>\n"
     ]
    }
   ],
   "source": [
    "print(object.__repr__(w))"
   ]
  },
  {
   "cell_type": "code",
   "execution_count": 99,
   "id": "b64c2a1b",
   "metadata": {},
   "outputs": [
    {
     "data": {
      "text/plain": [
       "<__main__.Complex at 0x7ff99046a190>"
      ]
     },
     "execution_count": 99,
     "metadata": {},
     "output_type": "execute_result"
    }
   ],
   "source": [
    "w"
   ]
  },
  {
   "cell_type": "code",
   "execution_count": 100,
   "id": "17f830a2",
   "metadata": {},
   "outputs": [],
   "source": [
    "class Complex:\n",
    "    def __init__(complex, real, imag):\n",
    "        complex.real = real\n",
    "        complex.imag = imag\n",
    "    def conjugate(complex):\n",
    "        return Complex(complex.real, -complex.imag)\n",
    "    def __repr__(complex):\n",
    "        return f\"({complex.real}+{complex.imag}j)\" # doesn't alway work (e.g. when complex.imag < 0)\n"
   ]
  },
  {
   "cell_type": "code",
   "execution_count": 101,
   "id": "0c8c9b6a",
   "metadata": {},
   "outputs": [],
   "source": [
    "w = Complex(1.0, 2.0)"
   ]
  },
  {
   "cell_type": "code",
   "execution_count": 102,
   "id": "114dfa2e",
   "metadata": {},
   "outputs": [
    {
     "data": {
      "text/plain": [
       "(1.0+2.0j)"
      ]
     },
     "execution_count": 102,
     "metadata": {},
     "output_type": "execute_result"
    }
   ],
   "source": [
    "w"
   ]
  },
  {
   "cell_type": "code",
   "execution_count": 103,
   "id": "4eea48e4",
   "metadata": {},
   "outputs": [],
   "source": [
    "class Complex: # usual convention: denote \"self\" the current instance\n",
    "    def __init__(self, real, imag):\n",
    "        self.real = real\n",
    "        self.imag = imag\n",
    "    def conjugate(self):\n",
    "        return Complex(self.real, -self.imag)\n",
    "    def __repr__(self):\n",
    "        return f\"({self.real}+{self.imag}j)\" # doesn't alway work (e.g. when complex.imag < 0)"
   ]
  },
  {
   "cell_type": "code",
   "execution_count": 104,
   "id": "6881f150",
   "metadata": {},
   "outputs": [
    {
     "data": {
      "text/plain": [
       "(1.0+2.0j)"
      ]
     },
     "execution_count": 104,
     "metadata": {},
     "output_type": "execute_result"
    }
   ],
   "source": [
    "w = Complex(1.0, 2.0)\n",
    "w"
   ]
  },
  {
   "cell_type": "code",
   "execution_count": 105,
   "id": "c150d1a8",
   "metadata": {},
   "outputs": [],
   "source": [
    "class Complex: # usual convention: denote \"self\" the current instance\n",
    "    def __init__(self, real, imag):\n",
    "        self.real = real\n",
    "        self.imag = imag\n",
    "    def conjugate(self):\n",
    "        return Complex(self.real, -self.imag)\n",
    "    def __repr__(self):\n",
    "        return f\"({self.real}+{self.imag}j)\" # doesn't alway work (e.g. when complex.imag < 0)\n",
    "    def add(self, other):\n",
    "        return Complex(self.real + other.real, self.imag + other.imag)"
   ]
  },
  {
   "cell_type": "code",
   "execution_count": 106,
   "id": "92fd47e8",
   "metadata": {},
   "outputs": [],
   "source": [
    "w = Complex(1.0, 2.0)\n",
    "z = Complex(0.0, 1.0)\n"
   ]
  },
  {
   "cell_type": "code",
   "execution_count": 107,
   "id": "76411aa5",
   "metadata": {},
   "outputs": [
    {
     "data": {
      "text/plain": [
       "(1.0+3.0j)"
      ]
     },
     "execution_count": 107,
     "metadata": {},
     "output_type": "execute_result"
    }
   ],
   "source": [
    "Complex.add(w, z) # usage d'une méthode non-liée (à une instance)"
   ]
  },
  {
   "cell_type": "code",
   "execution_count": 108,
   "id": "93c1a360",
   "metadata": {},
   "outputs": [
    {
     "data": {
      "text/plain": [
       "(1.0+3.0j)"
      ]
     },
     "execution_count": 108,
     "metadata": {},
     "output_type": "execute_result"
    }
   ],
   "source": [
    "w.add(z) # usage d'une méthode liée (à l'instance w)"
   ]
  },
  {
   "cell_type": "code",
   "execution_count": 109,
   "id": "c4613077",
   "metadata": {},
   "outputs": [
    {
     "ename": "TypeError",
     "evalue": "unsupported operand type(s) for +: 'Complex' and 'Complex'",
     "output_type": "error",
     "traceback": [
      "\u001b[0;31m---------------------------------------------------------------------------\u001b[0m",
      "\u001b[0;31mTypeError\u001b[0m                                 Traceback (most recent call last)",
      "\u001b[0;32m/tmp/ipykernel_73815/2317218533.py\u001b[0m in \u001b[0;36m<module>\u001b[0;34m\u001b[0m\n\u001b[0;32m----> 1\u001b[0;31m \u001b[0mw\u001b[0m \u001b[0;34m+\u001b[0m \u001b[0mz\u001b[0m\u001b[0;34m\u001b[0m\u001b[0;34m\u001b[0m\u001b[0m\n\u001b[0m",
      "\u001b[0;31mTypeError\u001b[0m: unsupported operand type(s) for +: 'Complex' and 'Complex'"
     ]
    }
   ],
   "source": [
    "w + z"
   ]
  },
  {
   "cell_type": "code",
   "execution_count": 110,
   "id": "61bcd501",
   "metadata": {},
   "outputs": [],
   "source": [
    "class Complex: # usual convention: denote \"self\" the current instance\n",
    "    def __init__(self, real, imag):\n",
    "        self.real = real\n",
    "        self.imag = imag\n",
    "    def conjugate(self):\n",
    "        return Complex(self.real, -self.imag)\n",
    "    def __repr__(self):\n",
    "        return f\"({self.real}+{self.imag}j)\" # doesn't alway work (e.g. when complex.imag < 0)\n",
    "    def __add__(self, other):\n",
    "        return Complex(self.real + other.real, self.imag + other.imag)"
   ]
  },
  {
   "cell_type": "code",
   "execution_count": 111,
   "id": "7361df49",
   "metadata": {},
   "outputs": [],
   "source": [
    "w = Complex(1.0, 2.0)\n",
    "z = Complex(0.0, 1.0)\n"
   ]
  },
  {
   "cell_type": "code",
   "execution_count": 112,
   "id": "d1043988",
   "metadata": {},
   "outputs": [
    {
     "data": {
      "text/plain": [
       "(1.0+3.0j)"
      ]
     },
     "execution_count": 112,
     "metadata": {},
     "output_type": "execute_result"
    }
   ],
   "source": [
    "Complex.__add__(w, z)"
   ]
  },
  {
   "cell_type": "code",
   "execution_count": 113,
   "id": "bc5f063a",
   "metadata": {},
   "outputs": [
    {
     "data": {
      "text/plain": [
       "(1.0+3.0j)"
      ]
     },
     "execution_count": 113,
     "metadata": {},
     "output_type": "execute_result"
    }
   ],
   "source": [
    "w.__add__(z)"
   ]
  },
  {
   "cell_type": "code",
   "execution_count": 114,
   "id": "a059abcc",
   "metadata": {},
   "outputs": [
    {
     "data": {
      "text/plain": [
       "(1.0+3.0j)"
      ]
     },
     "execution_count": 114,
     "metadata": {},
     "output_type": "execute_result"
    }
   ],
   "source": [
    "w + z"
   ]
  },
  {
   "cell_type": "code",
   "execution_count": 115,
   "id": "7dbe779c",
   "metadata": {},
   "outputs": [
    {
     "data": {
      "text/plain": [
       "1.0"
      ]
     },
     "execution_count": 115,
     "metadata": {},
     "output_type": "execute_result"
    }
   ],
   "source": [
    "w.real"
   ]
  },
  {
   "cell_type": "code",
   "execution_count": 119,
   "id": "94693883",
   "metadata": {},
   "outputs": [],
   "source": [
    "w.real = -1.0 # nos instances de nombres complexes sont modifiables :("
   ]
  },
  {
   "cell_type": "code",
   "execution_count": 117,
   "id": "9243cc4e",
   "metadata": {},
   "outputs": [],
   "source": [
    "w.real = \"tagad tsoin tsoin\" # et ces modifications peuvent le rendre invalide :( :( :("
   ]
  },
  {
   "cell_type": "code",
   "execution_count": 120,
   "id": "28815c92",
   "metadata": {},
   "outputs": [
    {
     "data": {
      "text/plain": [
       "(-1.0+2.0j)"
      ]
     },
     "execution_count": 120,
     "metadata": {},
     "output_type": "execute_result"
    }
   ],
   "source": [
    "w"
   ]
  },
  {
   "cell_type": "code",
   "execution_count": 121,
   "id": "49f94fbd",
   "metadata": {},
   "outputs": [
    {
     "data": {
      "text/plain": [
       "(1+0j)"
      ]
     },
     "execution_count": 121,
     "metadata": {},
     "output_type": "execute_result"
    }
   ],
   "source": [
    "complex(1.0)"
   ]
  },
  {
   "cell_type": "code",
   "execution_count": 122,
   "id": "0a4a2d1a",
   "metadata": {},
   "outputs": [
    {
     "ename": "TypeError",
     "evalue": "__init__() missing 1 required positional argument: 'imag'",
     "output_type": "error",
     "traceback": [
      "\u001b[0;31m---------------------------------------------------------------------------\u001b[0m",
      "\u001b[0;31mTypeError\u001b[0m                                 Traceback (most recent call last)",
      "\u001b[0;32m/tmp/ipykernel_73815/74783907.py\u001b[0m in \u001b[0;36m<module>\u001b[0;34m\u001b[0m\n\u001b[0;32m----> 1\u001b[0;31m \u001b[0mComplex\u001b[0m\u001b[0;34m(\u001b[0m\u001b[0;36m1.0\u001b[0m\u001b[0;34m)\u001b[0m\u001b[0;34m\u001b[0m\u001b[0;34m\u001b[0m\u001b[0m\n\u001b[0m",
      "\u001b[0;31mTypeError\u001b[0m: __init__() missing 1 required positional argument: 'imag'"
     ]
    }
   ],
   "source": [
    "Complex(1.0)"
   ]
  },
  {
   "cell_type": "code",
   "execution_count": 124,
   "id": "25a51056",
   "metadata": {},
   "outputs": [],
   "source": [
    "class Complex: # usual convention: denote \"self\" the current instance\n",
    "    def __init__(self, real, imag=0.0):\n",
    "        self.real = real\n",
    "        self.imag = imag\n",
    "    def conjugate(self):\n",
    "        return Complex(self.real, -self.imag)\n",
    "    def __repr__(self):\n",
    "        return f\"({self.real}+{self.imag}j)\" # doesn't alway work (e.g. when complex.imag < 0)\n",
    "    def add(self, other):\n",
    "        return Complex(self.real + other.real, self.imag + other.imag)"
   ]
  },
  {
   "cell_type": "code",
   "execution_count": 125,
   "id": "47ae7cb4",
   "metadata": {},
   "outputs": [
    {
     "data": {
      "text/plain": [
       "(1.0+0.0j)"
      ]
     },
     "execution_count": 125,
     "metadata": {},
     "output_type": "execute_result"
    }
   ],
   "source": [
    "Complex(1.0, 2.0)\n",
    "Complex(1.0)"
   ]
  },
  {
   "cell_type": "code",
   "execution_count": null,
   "id": "b68b39a6",
   "metadata": {},
   "outputs": [],
   "source": []
  }
 ],
 "metadata": {
  "kernelspec": {
   "display_name": "Python 3 (ipykernel)",
   "language": "python",
   "name": "python3"
  },
  "language_info": {
   "codemirror_mode": {
    "name": "ipython",
    "version": 3
   },
   "file_extension": ".py",
   "mimetype": "text/x-python",
   "name": "python",
   "nbconvert_exporter": "python",
   "pygments_lexer": "ipython3",
   "version": "3.9.7"
  }
 },
 "nbformat": 4,
 "nbformat_minor": 5
}
