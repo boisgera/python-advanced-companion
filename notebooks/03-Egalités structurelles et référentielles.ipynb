{
 "cells": [
  {
   "cell_type": "code",
   "execution_count": 2,
   "id": "68287a66",
   "metadata": {},
   "outputs": [],
   "source": [
    "r = l = [\"bold\"]"
   ]
  },
  {
   "cell_type": "code",
   "execution_count": 3,
   "id": "b36caa4b",
   "metadata": {},
   "outputs": [],
   "source": [
    "l.append(\"large\")"
   ]
  },
  {
   "cell_type": "code",
   "execution_count": 4,
   "id": "bda316a0",
   "metadata": {},
   "outputs": [
    {
     "data": {
      "text/plain": [
       "True"
      ]
     },
     "execution_count": 4,
     "metadata": {},
     "output_type": "execute_result"
    }
   ],
   "source": [
    "r is l"
   ]
  },
  {
   "cell_type": "code",
   "execution_count": 5,
   "id": "7f52580c",
   "metadata": {},
   "outputs": [
    {
     "data": {
      "text/plain": [
       "True"
      ]
     },
     "execution_count": 5,
     "metadata": {},
     "output_type": "execute_result"
    }
   ],
   "source": [
    "r == l"
   ]
  },
  {
   "cell_type": "code",
   "execution_count": 6,
   "id": "70376b8f",
   "metadata": {},
   "outputs": [
    {
     "data": {
      "text/plain": [
       "['bold', 'large']"
      ]
     },
     "execution_count": 6,
     "metadata": {},
     "output_type": "execute_result"
    }
   ],
   "source": [
    "r"
   ]
  },
  {
   "cell_type": "code",
   "execution_count": 7,
   "id": "0b5d82b5",
   "metadata": {},
   "outputs": [
    {
     "data": {
      "text/plain": [
       "['bold', 'large']"
      ]
     },
     "execution_count": 7,
     "metadata": {},
     "output_type": "execute_result"
    }
   ],
   "source": [
    "l"
   ]
  },
  {
   "cell_type": "code",
   "execution_count": 8,
   "id": "1b2ceeb3",
   "metadata": {},
   "outputs": [
    {
     "data": {
      "text/plain": [
       "140047276721024"
      ]
     },
     "execution_count": 8,
     "metadata": {},
     "output_type": "execute_result"
    }
   ],
   "source": [
    "id(r)"
   ]
  },
  {
   "cell_type": "code",
   "execution_count": 9,
   "id": "b8e6006c",
   "metadata": {},
   "outputs": [
    {
     "data": {
      "text/plain": [
       "140047276721024"
      ]
     },
     "execution_count": 9,
     "metadata": {},
     "output_type": "execute_result"
    }
   ],
   "source": [
    "id(l)"
   ]
  },
  {
   "cell_type": "code",
   "execution_count": 10,
   "id": "1c1fc971",
   "metadata": {},
   "outputs": [
    {
     "data": {
      "text/plain": [
       "True"
      ]
     },
     "execution_count": 10,
     "metadata": {},
     "output_type": "execute_result"
    }
   ],
   "source": [
    "id(l) == id(r) # equiv. to l is r."
   ]
  },
  {
   "cell_type": "markdown",
   "id": "72c7fa90",
   "metadata": {},
   "source": [
    "-------"
   ]
  },
  {
   "cell_type": "code",
   "execution_count": 12,
   "id": "82a9a6c0",
   "metadata": {},
   "outputs": [],
   "source": [
    "r = l = [\"bold\"]"
   ]
  },
  {
   "cell_type": "code",
   "execution_count": 13,
   "id": "9288b9c7",
   "metadata": {},
   "outputs": [],
   "source": [
    "l = l + [\"large\"]"
   ]
  },
  {
   "cell_type": "code",
   "execution_count": 14,
   "id": "23301f98",
   "metadata": {},
   "outputs": [
    {
     "data": {
      "text/plain": [
       "False"
      ]
     },
     "execution_count": 14,
     "metadata": {},
     "output_type": "execute_result"
    }
   ],
   "source": [
    "r is l "
   ]
  },
  {
   "cell_type": "code",
   "execution_count": 15,
   "id": "5b5e3104",
   "metadata": {},
   "outputs": [
    {
     "data": {
      "text/plain": [
       "False"
      ]
     },
     "execution_count": 15,
     "metadata": {},
     "output_type": "execute_result"
    }
   ],
   "source": [
    "r == l"
   ]
  },
  {
   "cell_type": "markdown",
   "id": "d75e149c",
   "metadata": {},
   "source": [
    "-----"
   ]
  },
  {
   "cell_type": "code",
   "execution_count": 16,
   "id": "c81ddd20",
   "metadata": {},
   "outputs": [],
   "source": [
    "l = [\"large\"]"
   ]
  },
  {
   "cell_type": "code",
   "execution_count": 17,
   "id": "02d1383f",
   "metadata": {},
   "outputs": [],
   "source": [
    "r = [\"large\"]"
   ]
  },
  {
   "cell_type": "code",
   "execution_count": 18,
   "id": "d2bd1a8c",
   "metadata": {},
   "outputs": [
    {
     "data": {
      "text/plain": [
       "False"
      ]
     },
     "execution_count": 18,
     "metadata": {},
     "output_type": "execute_result"
    }
   ],
   "source": [
    "r is l"
   ]
  },
  {
   "cell_type": "code",
   "execution_count": 19,
   "id": "4e5b8f8b",
   "metadata": {},
   "outputs": [
    {
     "data": {
      "text/plain": [
       "True"
      ]
     },
     "execution_count": 19,
     "metadata": {},
     "output_type": "execute_result"
    }
   ],
   "source": [
    "r == l"
   ]
  },
  {
   "cell_type": "code",
   "execution_count": null,
   "id": "132bf225",
   "metadata": {},
   "outputs": [],
   "source": []
  }
 ],
 "metadata": {
  "kernelspec": {
   "display_name": "Python 3 (ipykernel)",
   "language": "python",
   "name": "python3"
  },
  "language_info": {
   "codemirror_mode": {
    "name": "ipython",
    "version": 3
   },
   "file_extension": ".py",
   "mimetype": "text/x-python",
   "name": "python",
   "nbconvert_exporter": "python",
   "pygments_lexer": "ipython3",
   "version": "3.9.7"
  }
 },
 "nbformat": 4,
 "nbformat_minor": 5
}
