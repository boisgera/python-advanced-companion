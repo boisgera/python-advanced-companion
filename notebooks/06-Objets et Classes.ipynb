{
 "cells": [
  {
   "cell_type": "code",
   "execution_count": 131,
   "id": "40bee95d",
   "metadata": {},
   "outputs": [],
   "source": [
    "class Snake:\n",
    "    def __init__(self, geometry, direction):\n",
    "        self.geometry = geometry\n",
    "        self.direction = direction\n",
    "    def __iter__(self):\n",
    "        return iter(self.geometry)\n",
    "    def __len__(self):\n",
    "        return len(self.geometry)\n",
    "    def __getitem__(self, index):\n",
    "        return self.geometry[index]\n",
    "    def __eq__(self, other):\n",
    "        return (isinstance(other, Snake) and self.geometry == other.geometry and self.direction == other.direction)\n",
    "    "
   ]
  },
  {
   "cell_type": "code",
   "execution_count": 132,
   "id": "b3f58385",
   "metadata": {},
   "outputs": [],
   "source": [
    "geometry = [(10, 15), (11, 15), (12, 15)]\n",
    "direction = (0, 1)\n",
    "snake = Snake(geometry, direction)"
   ]
  },
  {
   "cell_type": "code",
   "execution_count": 133,
   "id": "143ad661",
   "metadata": {},
   "outputs": [
    {
     "data": {
      "text/plain": [
       "<__main__.Snake at 0x7fc42c281790>"
      ]
     },
     "execution_count": 133,
     "metadata": {},
     "output_type": "execute_result"
    }
   ],
   "source": [
    "snake"
   ]
  },
  {
   "cell_type": "code",
   "execution_count": 134,
   "id": "c7fe2e03",
   "metadata": {},
   "outputs": [
    {
     "name": "stdout",
     "output_type": "stream",
     "text": [
      "10 15\n",
      "11 15\n",
      "12 15\n"
     ]
    }
   ],
   "source": [
    "for (x, y) in snake:\n",
    "    print(x, y)"
   ]
  },
  {
   "cell_type": "code",
   "execution_count": 135,
   "id": "9bd158ed",
   "metadata": {},
   "outputs": [
    {
     "data": {
      "text/plain": [
       "True"
      ]
     },
     "execution_count": 135,
     "metadata": {},
     "output_type": "execute_result"
    }
   ],
   "source": [
    "(10, 15) in snake"
   ]
  },
  {
   "cell_type": "code",
   "execution_count": 136,
   "id": "7270cbb8",
   "metadata": {},
   "outputs": [
    {
     "data": {
      "text/plain": [
       "3"
      ]
     },
     "execution_count": 136,
     "metadata": {},
     "output_type": "execute_result"
    }
   ],
   "source": [
    "len(snake)"
   ]
  },
  {
   "cell_type": "code",
   "execution_count": 137,
   "id": "95e544db",
   "metadata": {},
   "outputs": [
    {
     "data": {
      "text/plain": [
       "(10, 15)"
      ]
     },
     "execution_count": 137,
     "metadata": {},
     "output_type": "execute_result"
    }
   ],
   "source": [
    "snake[0]"
   ]
  },
  {
   "cell_type": "code",
   "execution_count": 139,
   "id": "8c024e9a",
   "metadata": {},
   "outputs": [
    {
     "data": {
      "text/plain": [
       "False"
      ]
     },
     "execution_count": 139,
     "metadata": {},
     "output_type": "execute_result"
    }
   ],
   "source": [
    "geometry = [(10, 15), (11, 15), (12, 15)]\n",
    "direction = (0, 1)\n",
    "snake == Snake(geometry, direction)"
   ]
  },
  {
   "cell_type": "code",
   "execution_count": 8,
   "id": "255c6c7a",
   "metadata": {},
   "outputs": [],
   "source": [
    "fruit = (10, 10)"
   ]
  },
  {
   "cell_type": "code",
   "execution_count": 39,
   "id": "f6b6932f",
   "metadata": {},
   "outputs": [],
   "source": [
    "_state = None\n",
    "\n",
    "class GameState:\n",
    "    def __init__(self, snake, fruit):\n",
    "        self.snake = snake\n",
    "        self.fruit = fruit\n",
    "        \n",
    "    def save(self):\n",
    "        global _state\n",
    "        _state = (self.snake, self.fruit)\n",
    "        \n",
    "    def load(): # does not depend on self\n",
    "        snake = _state[0]\n",
    "        fruit = _state[1]\n",
    "        return GameState(snake, fruit)\n",
    "    \n",
    "    load = staticmethod(load)"
   ]
  },
  {
   "cell_type": "code",
   "execution_count": 49,
   "id": "1f4f55d3",
   "metadata": {},
   "outputs": [],
   "source": [
    "_state = None\n",
    "\n",
    "class GameState:\n",
    "    def __init__(self, snake, fruit):\n",
    "        self.snake = snake\n",
    "        self.fruit = fruit\n",
    "        \n",
    "    def save(self):\n",
    "        global _state\n",
    "        _state = (self.snake, self.fruit)\n",
    "\n",
    "    @staticmethod # decorator ; equivalent to load = staticmethod(load)\n",
    "    def load(): # does not depend on self\n",
    "        snake = _state[0]\n",
    "        fruit = _state[1]\n",
    "        return GameState(snake, fruit)"
   ]
  },
  {
   "cell_type": "code",
   "execution_count": 50,
   "id": "073ab96b",
   "metadata": {},
   "outputs": [],
   "source": [
    "state = GameState(snake, fruit)"
   ]
  },
  {
   "cell_type": "code",
   "execution_count": 51,
   "id": "66c0ef0e",
   "metadata": {},
   "outputs": [],
   "source": [
    "state.fruit = (12, 12)"
   ]
  },
  {
   "cell_type": "code",
   "execution_count": 52,
   "id": "6092a87b",
   "metadata": {},
   "outputs": [
    {
     "data": {
      "text/plain": [
       "(None, None)"
      ]
     },
     "execution_count": 52,
     "metadata": {},
     "output_type": "execute_result"
    }
   ],
   "source": [
    "_state"
   ]
  },
  {
   "cell_type": "code",
   "execution_count": 53,
   "id": "6e36bdad",
   "metadata": {},
   "outputs": [],
   "source": [
    "state.save()"
   ]
  },
  {
   "cell_type": "code",
   "execution_count": 54,
   "id": "ba761d58",
   "metadata": {},
   "outputs": [
    {
     "data": {
      "text/plain": [
       "(<__main__.Snake at 0x7fc42c397a90>, (12, 12))"
      ]
     },
     "execution_count": 54,
     "metadata": {},
     "output_type": "execute_result"
    }
   ],
   "source": [
    "_state"
   ]
  },
  {
   "cell_type": "code",
   "execution_count": 55,
   "id": "90f4dffc",
   "metadata": {},
   "outputs": [],
   "source": [
    "state.fruit = (0, 0)"
   ]
  },
  {
   "cell_type": "code",
   "execution_count": 56,
   "id": "d336f30b",
   "metadata": {},
   "outputs": [],
   "source": [
    "state2 = state.load()"
   ]
  },
  {
   "cell_type": "code",
   "execution_count": 57,
   "id": "e2f1a021",
   "metadata": {},
   "outputs": [],
   "source": [
    "state = GameState.load()"
   ]
  },
  {
   "cell_type": "code",
   "execution_count": 58,
   "id": "84b9ec3a",
   "metadata": {},
   "outputs": [
    {
     "data": {
      "text/plain": [
       "(12, 12)"
      ]
     },
     "execution_count": 58,
     "metadata": {},
     "output_type": "execute_result"
    }
   ],
   "source": [
    "state.fruit"
   ]
  },
  {
   "cell_type": "markdown",
   "id": "fbee6383",
   "metadata": {},
   "source": [
    "# Héritage"
   ]
  },
  {
   "cell_type": "code",
   "execution_count": 59,
   "id": "ef8c93c6",
   "metadata": {},
   "outputs": [],
   "source": [
    "_state = None\n",
    "\n",
    "class GameState2: # sans héritage\n",
    "    def __init__(self, snake, fruit, score):\n",
    "        self.snake = snake\n",
    "        self.fruit = fruit\n",
    "        self.score = score\n",
    "        \n",
    "    def save(self):\n",
    "        global _state\n",
    "        _state = (self.snake, self.fruit, self.score)\n",
    "\n",
    "    @staticmethod # decorator ; equivalent to load = staticmethod(load)\n",
    "    def load(): # does not depend on self\n",
    "        snake = _state[0]\n",
    "        fruit = _state[1]\n",
    "        score = _state[2]\n",
    "        return GameState2(snake, fruit, score)\n",
    "    "
   ]
  },
  {
   "cell_type": "code",
   "execution_count": 88,
   "id": "7a56c695",
   "metadata": {},
   "outputs": [],
   "source": [
    "class GameState2(GameState): # avec héritage: GameState2 dérive de GameState\n",
    "    def __init__(self, snake, fruit, score):\n",
    "        super().__init__(snake, fruit) # stocke snake et fruit en attributs\n",
    "        self.score = score\n",
    "    def save(self):\n",
    "        global _state\n",
    "        super().save() # _state == (snake, fruit)\n",
    "        #state_list = list(_state)\n",
    "        #state_list.append(self.score)\n",
    "        #_state = tuple(state_list)\n",
    "        # shorter:\n",
    "        _state = _state + (self.score,)\n",
    "    @staticmethod # decorator ; equivalent to load = staticmethod(load)\n",
    "    def load(): # does not depend on self\n",
    "        state1 = GameState.load()\n",
    "        snake = state1.snake\n",
    "        fruit = state1.fruit\n",
    "        score = _state[2]\n",
    "        return GameState2(snake, fruit, score)"
   ]
  },
  {
   "cell_type": "code",
   "execution_count": 89,
   "id": "e8468579",
   "metadata": {},
   "outputs": [],
   "source": [
    "score = 12\n",
    "state = GameState2(snake, fruit, score)"
   ]
  },
  {
   "cell_type": "code",
   "execution_count": 90,
   "id": "cc9a8ceb",
   "metadata": {},
   "outputs": [
    {
     "data": {
      "text/plain": [
       "(<__main__.Snake at 0x7fc42c397a90>, (10, 10), 12)"
      ]
     },
     "execution_count": 90,
     "metadata": {},
     "output_type": "execute_result"
    }
   ],
   "source": [
    "state.snake, state.fruit, state.score"
   ]
  },
  {
   "cell_type": "code",
   "execution_count": 91,
   "id": "561b4f17",
   "metadata": {},
   "outputs": [],
   "source": [
    "state.save()"
   ]
  },
  {
   "cell_type": "code",
   "execution_count": 92,
   "id": "da7a70f0",
   "metadata": {},
   "outputs": [
    {
     "data": {
      "text/plain": [
       "(<__main__.Snake at 0x7fc42c397a90>, (10, 10), 12)"
      ]
     },
     "execution_count": 92,
     "metadata": {},
     "output_type": "execute_result"
    }
   ],
   "source": [
    "_state"
   ]
  },
  {
   "cell_type": "code",
   "execution_count": 93,
   "id": "45c9d9ca",
   "metadata": {},
   "outputs": [],
   "source": [
    "state2 = GameState2.load()"
   ]
  },
  {
   "cell_type": "code",
   "execution_count": 94,
   "id": "15f0f751",
   "metadata": {
    "slideshow": {
     "slide_type": "fragment"
    }
   },
   "outputs": [
    {
     "data": {
      "text/plain": [
       "<__main__.Snake at 0x7fc42c397a90>"
      ]
     },
     "execution_count": 94,
     "metadata": {},
     "output_type": "execute_result"
    }
   ],
   "source": [
    "state2.snake"
   ]
  },
  {
   "cell_type": "code",
   "execution_count": 95,
   "id": "1944a5ad",
   "metadata": {},
   "outputs": [
    {
     "data": {
      "text/plain": [
       "(10, 10)"
      ]
     },
     "execution_count": 95,
     "metadata": {},
     "output_type": "execute_result"
    }
   ],
   "source": [
    "state2.fruit"
   ]
  },
  {
   "cell_type": "code",
   "execution_count": 96,
   "id": "86ff5f5f",
   "metadata": {},
   "outputs": [
    {
     "data": {
      "text/plain": [
       "12"
      ]
     },
     "execution_count": 96,
     "metadata": {},
     "output_type": "execute_result"
    }
   ],
   "source": [
    "state2.score"
   ]
  },
  {
   "cell_type": "markdown",
   "id": "0b79bf72",
   "metadata": {},
   "source": [
    "# Accesseurs, Variables privées, etc."
   ]
  },
  {
   "cell_type": "code",
   "execution_count": 213,
   "id": "15b734ac",
   "metadata": {},
   "outputs": [],
   "source": [
    "import copy\n",
    "\n",
    "class Snake:\n",
    "    def __init__(self, geometry, direction):\n",
    "        self._geometry = geometry\n",
    "        self._direction = direction\n",
    "    def get_geometry(self):\n",
    "        print(\"GET\")\n",
    "        return copy.copy(self._geometry)\n",
    "    def set_geometry(self, geometry):\n",
    "        print(\"SET\")\n",
    "        # TODO: ajout validation de geometry\n",
    "        self._geometry = copy.copy(geometry)\n",
    "    geometry = property(get_geometry, set_geometry)    \n",
    "        \n",
    "    def get_score(self):\n",
    "        return len(self)\n",
    "    score = property(get_score) # read-only, virtual property\n",
    "    \n",
    "        \n",
    "    def __iter__(self):\n",
    "        return iter(self.geometry)\n",
    "    def __len__(self):\n",
    "        return len(self.geometry)\n",
    "    def __getitem__(self, index):\n",
    "        return self.geometry[index]\n",
    "    def __eq__(self, other):\n",
    "        return (isinstance(other, Snake) and self.geometry == other.geometry and self.direction == other.direction)\n",
    "    \n",
    "class GameState:\n",
    "    def __init__(self, snake, fruit):\n",
    "        self.snake = snake\n",
    "        self.fruit = fruit"
   ]
  },
  {
   "cell_type": "code",
   "execution_count": 214,
   "id": "e576b6cf",
   "metadata": {},
   "outputs": [],
   "source": [
    "geometry = [(10, 15), (11, 15), (12, 15)]\n",
    "direction = (0, 1)\n",
    "snake = Snake(geometry, direction)"
   ]
  },
  {
   "cell_type": "code",
   "execution_count": 215,
   "id": "3ceee1c3",
   "metadata": {},
   "outputs": [
    {
     "data": {
      "text/plain": [
       "[(10, 15), (11, 15), (12, 15)]"
      ]
     },
     "execution_count": 215,
     "metadata": {},
     "output_type": "execute_result"
    }
   ],
   "source": [
    "snake._geometry # ça marche mais _ indique que par convention, seules les méthodes Snake devraient accéder à cet attribut\n",
    "# attribut privé"
   ]
  },
  {
   "cell_type": "code",
   "execution_count": 216,
   "id": "73dfa829",
   "metadata": {},
   "outputs": [
    {
     "name": "stdout",
     "output_type": "stream",
     "text": [
      "GET\n"
     ]
    },
    {
     "data": {
      "text/plain": [
       "[(10, 15), (11, 15), (12, 15)]"
      ]
     },
     "execution_count": 216,
     "metadata": {},
     "output_type": "execute_result"
    }
   ],
   "source": [
    "snake.get_geometry()"
   ]
  },
  {
   "cell_type": "code",
   "execution_count": 217,
   "id": "e45274d9",
   "metadata": {},
   "outputs": [
    {
     "name": "stdout",
     "output_type": "stream",
     "text": [
      "GET\n"
     ]
    }
   ],
   "source": [
    "geometry = snake.get_geometry()"
   ]
  },
  {
   "cell_type": "code",
   "execution_count": 218,
   "id": "fbcccf88",
   "metadata": {},
   "outputs": [],
   "source": [
    "geometry[0] = None # pas de corruption de la variable snake._geometry grace à la copie !!!"
   ]
  },
  {
   "cell_type": "code",
   "execution_count": 219,
   "id": "0f1dc52b",
   "metadata": {},
   "outputs": [
    {
     "name": "stdout",
     "output_type": "stream",
     "text": [
      "GET\n"
     ]
    },
    {
     "data": {
      "text/plain": [
       "[(10, 15), (11, 15), (12, 15)]"
      ]
     },
     "execution_count": 219,
     "metadata": {},
     "output_type": "execute_result"
    }
   ],
   "source": [
    "snake.get_geometry()"
   ]
  },
  {
   "cell_type": "code",
   "execution_count": 220,
   "id": "cd89d801",
   "metadata": {},
   "outputs": [
    {
     "name": "stdout",
     "output_type": "stream",
     "text": [
      "SET\n"
     ]
    }
   ],
   "source": [
    "snake.set_geometry([(0, 0), (0, 1)])"
   ]
  },
  {
   "cell_type": "code",
   "execution_count": 221,
   "id": "09dae669",
   "metadata": {},
   "outputs": [
    {
     "name": "stdout",
     "output_type": "stream",
     "text": [
      "GET\n"
     ]
    },
    {
     "data": {
      "text/plain": [
       "[(0, 0), (0, 1)]"
      ]
     },
     "execution_count": 221,
     "metadata": {},
     "output_type": "execute_result"
    }
   ],
   "source": [
    "snake.get_geometry()"
   ]
  },
  {
   "cell_type": "code",
   "execution_count": 222,
   "id": "a942d1c6",
   "metadata": {},
   "outputs": [
    {
     "name": "stdout",
     "output_type": "stream",
     "text": [
      "SET\n"
     ]
    }
   ],
   "source": [
    "snake.geometry = [(3, 3)]"
   ]
  },
  {
   "cell_type": "code",
   "execution_count": 223,
   "id": "148a99e0",
   "metadata": {},
   "outputs": [
    {
     "name": "stdout",
     "output_type": "stream",
     "text": [
      "GET\n"
     ]
    },
    {
     "data": {
      "text/plain": [
       "[(3, 3)]"
      ]
     },
     "execution_count": 223,
     "metadata": {},
     "output_type": "execute_result"
    }
   ],
   "source": [
    "snake.geometry"
   ]
  },
  {
   "cell_type": "code",
   "execution_count": 224,
   "id": "16bc9fec",
   "metadata": {},
   "outputs": [
    {
     "name": "stdout",
     "output_type": "stream",
     "text": [
      "GET\n"
     ]
    },
    {
     "data": {
      "text/plain": [
       "1"
      ]
     },
     "execution_count": 224,
     "metadata": {},
     "output_type": "execute_result"
    }
   ],
   "source": [
    "snake.score"
   ]
  },
  {
   "cell_type": "code",
   "execution_count": 225,
   "id": "a12aba39",
   "metadata": {},
   "outputs": [
    {
     "ename": "AttributeError",
     "evalue": "can't set attribute",
     "output_type": "error",
     "traceback": [
      "\u001b[0;31m---------------------------------------------------------------------------\u001b[0m",
      "\u001b[0;31mAttributeError\u001b[0m                            Traceback (most recent call last)",
      "\u001b[0;32m/tmp/ipykernel_34619/2459733161.py\u001b[0m in \u001b[0;36m<module>\u001b[0;34m\u001b[0m\n\u001b[0;32m----> 1\u001b[0;31m \u001b[0msnake\u001b[0m\u001b[0;34m.\u001b[0m\u001b[0mscore\u001b[0m \u001b[0;34m=\u001b[0m \u001b[0;36m999\u001b[0m\u001b[0;34m\u001b[0m\u001b[0;34m\u001b[0m\u001b[0m\n\u001b[0m",
      "\u001b[0;31mAttributeError\u001b[0m: can't set attribute"
     ]
    }
   ],
   "source": [
    "snake.score = 999"
   ]
  },
  {
   "cell_type": "code",
   "execution_count": 178,
   "id": "8cef7e9e",
   "metadata": {},
   "outputs": [
    {
     "name": "stdout",
     "output_type": "stream",
     "text": [
      "Help on module copy:\n",
      "\n",
      "NAME\n",
      "    copy - Generic (shallow and deep) copying operations.\n",
      "\n",
      "MODULE REFERENCE\n",
      "    https://docs.python.org/3.9/library/copy\n",
      "    \n",
      "    The following documentation is automatically generated from the Python\n",
      "    source files.  It may be incomplete, incorrect or include features that\n",
      "    are considered implementation detail and may vary between Python\n",
      "    implementations.  When in doubt, consult the module reference at the\n",
      "    location listed above.\n",
      "\n",
      "DESCRIPTION\n",
      "    Interface summary:\n",
      "    \n",
      "            import copy\n",
      "    \n",
      "            x = copy.copy(y)        # make a shallow copy of y\n",
      "            x = copy.deepcopy(y)    # make a deep copy of y\n",
      "    \n",
      "    For module specific errors, copy.Error is raised.\n",
      "    \n",
      "    The difference between shallow and deep copying is only relevant for\n",
      "    compound objects (objects that contain other objects, like lists or\n",
      "    class instances).\n",
      "    \n",
      "    - A shallow copy constructs a new compound object and then (to the\n",
      "      extent possible) inserts *the same objects* into it that the\n",
      "      original contains.\n",
      "    \n",
      "    - A deep copy constructs a new compound object and then, recursively,\n",
      "      inserts *copies* into it of the objects found in the original.\n",
      "    \n",
      "    Two problems often exist with deep copy operations that don't exist\n",
      "    with shallow copy operations:\n",
      "    \n",
      "     a) recursive objects (compound objects that, directly or indirectly,\n",
      "        contain a reference to themselves) may cause a recursive loop\n",
      "    \n",
      "     b) because deep copy copies *everything* it may copy too much, e.g.\n",
      "        administrative data structures that should be shared even between\n",
      "        copies\n",
      "    \n",
      "    Python's deep copy operation avoids these problems by:\n",
      "    \n",
      "     a) keeping a table of objects already copied during the current\n",
      "        copying pass\n",
      "    \n",
      "     b) letting user-defined classes override the copying operation or the\n",
      "        set of components copied\n",
      "    \n",
      "    This version does not copy types like module, class, function, method,\n",
      "    nor stack trace, stack frame, nor file, socket, window, nor array, nor\n",
      "    any similar types.\n",
      "    \n",
      "    Classes can use the same interfaces to control copying that they use\n",
      "    to control pickling: they can define methods called __getinitargs__(),\n",
      "    __getstate__() and __setstate__().  See the documentation for module\n",
      "    \"pickle\" for information on these methods.\n",
      "\n",
      "CLASSES\n",
      "    builtins.Exception(builtins.BaseException)\n",
      "        Error\n",
      "    \n",
      "    class Error(builtins.Exception)\n",
      "     |  Method resolution order:\n",
      "     |      Error\n",
      "     |      builtins.Exception\n",
      "     |      builtins.BaseException\n",
      "     |      builtins.object\n",
      "     |  \n",
      "     |  Data descriptors defined here:\n",
      "     |  \n",
      "     |  __weakref__\n",
      "     |      list of weak references to the object (if defined)\n",
      "     |  \n",
      "     |  ----------------------------------------------------------------------\n",
      "     |  Methods inherited from builtins.Exception:\n",
      "     |  \n",
      "     |  __init__(self, /, *args, **kwargs)\n",
      "     |      Initialize self.  See help(type(self)) for accurate signature.\n",
      "     |  \n",
      "     |  ----------------------------------------------------------------------\n",
      "     |  Static methods inherited from builtins.Exception:\n",
      "     |  \n",
      "     |  __new__(*args, **kwargs) from builtins.type\n",
      "     |      Create and return a new object.  See help(type) for accurate signature.\n",
      "     |  \n",
      "     |  ----------------------------------------------------------------------\n",
      "     |  Methods inherited from builtins.BaseException:\n",
      "     |  \n",
      "     |  __delattr__(self, name, /)\n",
      "     |      Implement delattr(self, name).\n",
      "     |  \n",
      "     |  __getattribute__(self, name, /)\n",
      "     |      Return getattr(self, name).\n",
      "     |  \n",
      "     |  __reduce__(...)\n",
      "     |      Helper for pickle.\n",
      "     |  \n",
      "     |  __repr__(self, /)\n",
      "     |      Return repr(self).\n",
      "     |  \n",
      "     |  __setattr__(self, name, value, /)\n",
      "     |      Implement setattr(self, name, value).\n",
      "     |  \n",
      "     |  __setstate__(...)\n",
      "     |  \n",
      "     |  __str__(self, /)\n",
      "     |      Return str(self).\n",
      "     |  \n",
      "     |  with_traceback(...)\n",
      "     |      Exception.with_traceback(tb) --\n",
      "     |      set self.__traceback__ to tb and return self.\n",
      "     |  \n",
      "     |  ----------------------------------------------------------------------\n",
      "     |  Data descriptors inherited from builtins.BaseException:\n",
      "     |  \n",
      "     |  __cause__\n",
      "     |      exception cause\n",
      "     |  \n",
      "     |  __context__\n",
      "     |      exception context\n",
      "     |  \n",
      "     |  __dict__\n",
      "     |  \n",
      "     |  __suppress_context__\n",
      "     |  \n",
      "     |  __traceback__\n",
      "     |  \n",
      "     |  args\n",
      "\n",
      "FUNCTIONS\n",
      "    copy(x)\n",
      "        Shallow copy operation on arbitrary Python objects.\n",
      "        \n",
      "        See the module's __doc__ string for more info.\n",
      "    \n",
      "    deepcopy(x, memo=None, _nil=[])\n",
      "        Deep copy operation on arbitrary Python objects.\n",
      "        \n",
      "        See the module's __doc__ string for more info.\n",
      "\n",
      "DATA\n",
      "    __all__ = ['Error', 'copy', 'deepcopy']\n",
      "\n",
      "FILE\n",
      "    /home/boisgera/miniconda3/envs/python-advanced/lib/python3.9/copy.py\n",
      "\n",
      "\n"
     ]
    }
   ],
   "source": [
    "help(copy)"
   ]
  },
  {
   "cell_type": "code",
   "execution_count": null,
   "id": "7be1dc9f",
   "metadata": {},
   "outputs": [],
   "source": []
  }
 ],
 "metadata": {
  "kernelspec": {
   "display_name": "Python 3 (ipykernel)",
   "language": "python",
   "name": "python3"
  },
  "language_info": {
   "codemirror_mode": {
    "name": "ipython",
    "version": 3
   },
   "file_extension": ".py",
   "mimetype": "text/x-python",
   "name": "python",
   "nbconvert_exporter": "python",
   "pygments_lexer": "ipython3",
   "version": "3.9.7"
  }
 },
 "nbformat": 4,
 "nbformat_minor": 5
}
