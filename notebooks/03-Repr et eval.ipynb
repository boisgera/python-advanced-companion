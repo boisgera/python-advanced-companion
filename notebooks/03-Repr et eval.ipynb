{
 "cells": [
  {
   "cell_type": "code",
   "execution_count": 1,
   "id": "3e6104ad",
   "metadata": {},
   "outputs": [],
   "source": [
    "l = [(1, 2), (2, 2), (3, 2)]"
   ]
  },
  {
   "cell_type": "code",
   "execution_count": 2,
   "id": "c64ea966",
   "metadata": {},
   "outputs": [
    {
     "data": {
      "text/plain": [
       "'[(1, 2), (2, 2), (3, 2)]'"
      ]
     },
     "execution_count": 2,
     "metadata": {},
     "output_type": "execute_result"
    }
   ],
   "source": [
    "str(l)"
   ]
  },
  {
   "cell_type": "code",
   "execution_count": 3,
   "id": "049c3240",
   "metadata": {},
   "outputs": [
    {
     "data": {
      "text/plain": [
       "'[(1, 2), (2, 2), (3, 2)]'"
      ]
     },
     "execution_count": 3,
     "metadata": {},
     "output_type": "execute_result"
    }
   ],
   "source": [
    "repr(l)"
   ]
  },
  {
   "cell_type": "code",
   "execution_count": 6,
   "id": "6243b551",
   "metadata": {},
   "outputs": [],
   "source": [
    "s = repr(l)"
   ]
  },
  {
   "cell_type": "code",
   "execution_count": 7,
   "id": "5f5fdb21",
   "metadata": {},
   "outputs": [
    {
     "data": {
      "text/plain": [
       "[(1, 2), (2, 2), (3, 2)]"
      ]
     },
     "execution_count": 7,
     "metadata": {},
     "output_type": "execute_result"
    }
   ],
   "source": [
    "eval(s)"
   ]
  },
  {
   "cell_type": "code",
   "execution_count": 8,
   "id": "cb96b9a0",
   "metadata": {},
   "outputs": [
    {
     "data": {
      "text/plain": [
       "list"
      ]
     },
     "execution_count": 8,
     "metadata": {},
     "output_type": "execute_result"
    }
   ],
   "source": [
    "type(eval(s))"
   ]
  },
  {
   "cell_type": "code",
   "execution_count": 10,
   "id": "7ad7f1e7",
   "metadata": {},
   "outputs": [
    {
     "data": {
      "text/plain": [
       "True"
      ]
     },
     "execution_count": 10,
     "metadata": {},
     "output_type": "execute_result"
    }
   ],
   "source": [
    "eval(repr(s)) == s"
   ]
  },
  {
   "cell_type": "code",
   "execution_count": null,
   "id": "0a1a6d9f",
   "metadata": {},
   "outputs": [],
   "source": []
  }
 ],
 "metadata": {
  "kernelspec": {
   "display_name": "Python 3 (ipykernel)",
   "language": "python",
   "name": "python3"
  },
  "language_info": {
   "codemirror_mode": {
    "name": "ipython",
    "version": 3
   },
   "file_extension": ".py",
   "mimetype": "text/x-python",
   "name": "python",
   "nbconvert_exporter": "python",
   "pygments_lexer": "ipython3",
   "version": "3.9.7"
  }
 },
 "nbformat": 4,
 "nbformat_minor": 5
}
